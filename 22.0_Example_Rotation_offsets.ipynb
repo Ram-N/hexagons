{
 "cells": [
  {
   "cell_type": "markdown",
   "metadata": {},
   "source": [
    "# Hexagons that are Rotated Differently\n",
    "\n",
    "There is a fractal nature to this. We can take an one hexagon, and place 6 other hexagons inside that hexagon. We can then do the same for each of the smaller hexagons, ad infinitum.\n",
    "\n",
    "Since we have computed \"Lattice Points\" for each Hexagon, it is now easy to draw the smaller inner hexagons."
   ]
  },
  {
   "cell_type": "code",
   "execution_count": 2,
   "metadata": {},
   "outputs": [],
   "source": [
    "%load_ext autoreload\n",
    "%autoreload 2"
   ]
  },
  {
   "cell_type": "code",
   "execution_count": 3,
   "metadata": {},
   "outputs": [],
   "source": [
    "import logging\n",
    "import matplotlib.pyplot as plt\n",
    "import numpy as np\n",
    "from tqdm import tqdm\n",
    "\n",
    "\n",
    "from hexagon_utilities import *\n",
    "from colors import *\n",
    "import plot_functions as pf\n",
    "from hex_trees import *"
   ]
  },
  {
   "cell_type": "markdown",
   "metadata": {},
   "source": [
    "## The Idea Rotation Offsets\n",
    "\n",
    "1. Create a grid of Hexagon Centers\n",
    "2. In each center, draw a Hexagon, but \"rotate\" it slightly. Some overlap can and will occur\n",
    "\n"
   ]
  },
  {
   "cell_type": "markdown",
   "metadata": {
    "slideshow": {
     "slide_type": "fragment"
    }
   },
   "source": [
    "## Try it on \"sheets\" of Hexagons"
   ]
  },
  {
   "cell_type": "code",
   "execution_count": 19,
   "metadata": {},
   "outputs": [
    {
     "name": "stdout",
     "output_type": "stream",
     "text": [
      "writing 22_ae1_r_15_c_9_2020-08-14_03-28-35_608667_AM.jpg\n",
      "writing 22_ae2_r_15_c_9_2020-08-14_03-28-35_741311_AM.jpg\n",
      "writing 22_ae3_r_15_c_9_2020-08-14_03-28-36_179141_AM.jpg\n",
      "writing 22_ae4_r_15_c_9_2020-08-14_03-28-36_308794_AM.jpg\n",
      "writing 22_ae5_r_15_c_9_2020-08-14_03-28-36_443434_AM.jpg\n",
      "writing 22_ae6_r_15_c_9_2020-08-14_03-28-36_575089_AM.jpg\n",
      "writing 22_ae7_r_15_c_9_2020-08-14_03-28-36_711677_AM.jpg\n",
      "writing 22_ae8_r_15_c_9_2020-08-14_03-28-36_906196_AM.jpg\n",
      "writing 22_ae9_r_15_c_9_2020-08-14_03-28-37_043828_AM.jpg\n",
      "writing 22_ae10_r_15_c_9_2020-08-14_03-28-37_180463_AM.jpg\n",
      "writing 22_ae11_r_15_c_9_2020-08-14_03-28-37_324040_AM.jpg\n",
      "writing 22_ae12_r_15_c_9_2020-08-14_03-28-37_460674_AM.jpg\n",
      "writing 22_ae13_r_15_c_9_2020-08-14_03-28-37_603332_AM.jpg\n",
      "writing 22_ae14_r_15_c_9_2020-08-14_03-28-37_812773_AM.jpg\n",
      "writing 22_ae15_r_15_c_9_2020-08-14_03-28-37_956389_AM.jpg\n",
      "writing 22_ae16_r_15_c_9_2020-08-14_03-28-38_093024_AM.jpg\n",
      "writing 22_ae17_r_15_c_9_2020-08-14_03-28-38_282477_AM.jpg\n",
      "writing 22_ae18_r_15_c_9_2020-08-14_03-28-38_438062_AM.jpg\n",
      "writing 22_ae19_r_15_c_9_2020-08-14_03-28-38_590692_AM.jpg\n",
      "writing 22_ae20_r_15_c_9_2020-08-14_03-28-38_747235_AM.jpg\n",
      "writing 22_ae21_r_15_c_9_2020-08-14_03-28-38_979613_AM.jpg\n",
      "writing 22_ae22_r_15_c_9_2020-08-14_03-28-39_113255_AM.jpg\n",
      "writing 22_ae23_r_15_c_9_2020-08-14_03-28-39_255874_AM.jpg\n",
      "writing 22_ae24_r_15_c_9_2020-08-14_03-28-39_398492_AM.jpg\n",
      "writing 22_ae25_r_15_c_9_2020-08-14_03-28-39_555115_AM.jpg\n",
      "writing 22_ae26_r_15_c_9_2020-08-14_03-28-39_693705_AM.jpg\n",
      "writing 22_ae27_r_15_c_9_2020-08-14_03-28-39_855271_AM.jpg\n",
      "writing 22_ae28_r_15_c_9_2020-08-14_03-28-39_998888_AM.jpg\n",
      "writing 22_ae29_r_15_c_9_2020-08-14_03-28-40_144539_AM.jpg\n",
      "writing 22_ae30_r_15_c_9_2020-08-14_03-28-40_398858_AM.jpg\n",
      "writing 22_ae31_r_15_c_9_2020-08-14_03-28-40_539443_AM.jpg\n",
      "writing 22_ae32_r_15_c_9_2020-08-14_03-28-40_679071_AM.jpg\n",
      "writing 22_ae33_r_15_c_9_2020-08-14_03-28-40_819693_AM.jpg\n",
      "writing 22_ae34_r_15_c_9_2020-08-14_03-28-40_958362_AM.jpg\n",
      "writing 22_ae35_r_15_c_9_2020-08-14_03-28-41_099989_AM.jpg\n",
      "writing 22_ae36_r_15_c_9_2020-08-14_03-28-41_246592_AM.jpg\n",
      "writing 22_ae37_r_15_c_9_2020-08-14_03-28-41_384223_AM.jpg\n",
      "writing 22_ae38_r_15_c_9_2020-08-14_03-28-41_521816_AM.jpg\n",
      "writing 22_ae39_r_15_c_9_2020-08-14_03-28-41_660485_AM.jpg\n",
      "writing 22_ae40_r_15_c_9_2020-08-14_03-28-41_797119_AM.jpg\n",
      "writing 22_ae41_r_15_c_9_2020-08-14_03-28-42_092291_AM.jpg\n",
      "writing 22_ae42_r_15_c_9_2020-08-14_03-28-42_224976_AM.jpg\n",
      "writing 22_ae43_r_15_c_9_2020-08-14_03-28-42_368553_AM.jpg\n",
      "writing 22_ae44_r_15_c_9_2020-08-14_03-28-42_511170_AM.jpg\n",
      "writing 22_ae45_r_15_c_9_2020-08-14_03-28-42_660770_AM.jpg\n",
      "writing 22_ae46_r_15_c_9_2020-08-14_03-28-42_804388_AM.jpg\n",
      "writing 22_ae47_r_15_c_9_2020-08-14_03-28-42_956981_AM.jpg\n",
      "writing 22_ae48_r_15_c_9_2020-08-14_03-28-43_119546_AM.jpg\n",
      "writing 22_ae49_r_15_c_9_2020-08-14_03-28-43_257215_AM.jpg\n",
      "writing 22_ae50_r_15_c_9_2020-08-14_03-28-43_392852_AM.jpg\n",
      "writing 22_ae51_r_15_c_9_2020-08-14_03-28-43_534433_AM.jpg\n",
      "writing 22_ae52_r_15_c_9_2020-08-14_03-28-43_699997_AM.jpg\n",
      "writing 22_ae53_r_15_c_9_2020-08-14_03-28-43_836626_AM.jpg\n",
      "writing 22_ae54_r_15_c_9_2020-08-14_03-28-43_972303_AM.jpg\n"
     ]
    }
   ],
   "source": [
    "#hg.size\n",
    "\n",
    "radius = 2\n",
    "epsilon = radius/5\n",
    "a_increment = PI/8\n",
    "angle = 0\n",
    "\n",
    "eps = [-0.2, -0.15, -0.1, -0.05, 0, 0.05, 0.1, 0.15, 0.2]\n",
    "_eps = [e for e in  reversed(eps)]\n",
    "\n",
    "epsi_angle_num =1\n",
    "for a_ratio in (10,9,8,7,6,5):\n",
    "    eps_to_use = eps if a_ratio%2 else _eps #to and fro, smoothly\n",
    "    for epsilon in eps_to_use:\n",
    "        a_increment = PI/a_ratio        \n",
    "        hg, fig, ax, num_rows, num_cols = pf.grid_3()\n",
    "        for center in hg.centers:\n",
    "            angle+=a_increment\n",
    "            #plt.scatter(*center, color='k')\n",
    "            polygon = mpatches.RegularPolygon(\n",
    "            center,\n",
    "            numVertices=6,\n",
    "            radius=radius-epsilon*radius,\n",
    "            orientation=angle,\n",
    "            facecolor='none',\n",
    "            edgecolor='k', lw=4)\n",
    "            ax.add_patch(polygon)\n",
    "\n",
    "        pf.save_file(fig, title='ae'+str(epsi_angle_num), nbk = 22,num_rows=num_rows, num_cols=num_cols)\n",
    "        plt.close()\n",
    "        epsi_angle_num +=1"
   ]
  },
  {
   "cell_type": "code",
   "execution_count": null,
   "metadata": {},
   "outputs": [],
   "source": []
  }
 ],
 "metadata": {
  "kernelspec": {
   "display_name": "Python 3",
   "language": "python",
   "name": "python3"
  },
  "language_info": {
   "codemirror_mode": {
    "name": "ipython",
    "version": 3
   },
   "file_extension": ".py",
   "mimetype": "text/x-python",
   "name": "python",
   "nbconvert_exporter": "python",
   "pygments_lexer": "ipython3",
   "version": "3.7.4"
  }
 },
 "nbformat": 4,
 "nbformat_minor": 4
}
